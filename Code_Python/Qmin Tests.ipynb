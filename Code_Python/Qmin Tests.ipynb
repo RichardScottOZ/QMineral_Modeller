{
 "cells": [
  {
   "cell_type": "code",
   "execution_count": null,
   "metadata": {},
   "outputs": [],
   "source": [
    "import qmin as qmin\n",
    "\n",
    "model = qmin.load_model()"
   ]
  },
  {
   "cell_type": "code",
   "execution_count": null,
   "metadata": {},
   "outputs": [],
   "source": [
    "# Teste Evandro\n",
    "qmin.test_cprm_datasets('../data_test/evandro_output.csv')"
   ]
  },
  {
   "cell_type": "code",
   "execution_count": null,
   "metadata": {},
   "outputs": [],
   "source": [
    "#Teste Anderson\n",
    "qmin.test_cprm_datasets('../data_test/anderson_output.csv')"
   ]
  },
  {
   "cell_type": "code",
   "execution_count": null,
   "metadata": {},
   "outputs": [],
   "source": [
    "# Dados Renato\n",
    "#filename = '../data_othersources/EXMPLO_RESULTADOS_EPMA_MINERAIS_VARIADOS.csv'\n",
    "filename = '../data_othersources/ALBITA_STANDARD_BAD_ANALYSIS.csv'\n",
    "#filename = '../data_othersources/ALBITA_STANDARD_GOOD_ANALYSIS.csv'\n",
    "\n",
    "qmin.load_data_ms(filename,separator_diferent=False)"
   ]
  },
  {
   "cell_type": "code",
   "execution_count": null,
   "metadata": {},
   "outputs": [],
   "source": [
    "# Dados Cofrinho\n",
    "#filename = \"../data_test/01_10_12_GRANADAS_MASSA.xls\"\n",
    "filename = \"../data_test/01_10_12_MICAS_MASSA.xls\"\n",
    "#filename = \"../data_test/01_10_12_PLAGIOCLASIO_MASSA.xls\"\n",
    "\n",
    "qmin.load_data_ms(filename,separator_diferent=False)"
   ]
  },
  {
   "cell_type": "code",
   "execution_count": null,
   "metadata": {},
   "outputs": [],
   "source": [
    "import glob\n",
    "path_files = '../data_test/'\n",
    "input_files = glob.glob(path_files + \"*.xls\")\n",
    "\n",
    "for data in input_files:\n",
    "    print(data)\n",
    "\n",
    "    qmin.load_data_ms(data,separator_diferent=False)\n"
   ]
  },
  {
   "cell_type": "code",
   "execution_count": null,
   "metadata": {},
   "outputs": [],
   "source": [
    "filename = \"../data_test/30_10_12_PLAGIOCLASIO_1_MASSA.xls\"\n",
    "\n",
    "qmin.load_data_ms(filename,separator_diferent=False)\n"
   ]
  },
  {
   "cell_type": "code",
   "execution_count": null,
   "metadata": {},
   "outputs": [],
   "source": []
  }
 ],
 "metadata": {
  "kernelspec": {
   "display_name": "Python 3",
   "language": "python",
   "name": "python3"
  },
  "language_info": {
   "codemirror_mode": {
    "name": "ipython",
    "version": 3
   },
   "file_extension": ".py",
   "mimetype": "text/x-python",
   "name": "python",
   "nbconvert_exporter": "python",
   "pygments_lexer": "ipython3",
   "version": "3.7.0"
  }
 },
 "nbformat": 4,
 "nbformat_minor": 2
}
