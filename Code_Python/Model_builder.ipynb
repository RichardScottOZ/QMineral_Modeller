{
 "cells": [
  {
   "cell_type": "code",
   "execution_count": 76,
   "metadata": {},
   "outputs": [],
   "source": [
    "import numpy as np\n",
    "import pandas as pd\n",
    "from sklearn.metrics import confusion_matrix, classification_report\n",
    "from sklearn.model_selection import train_test_split\n",
    "from sklearn.ensemble import RandomForestClassifier\n",
    "from sklearn.metrics import accuracy_score\n",
    "import itertools\n",
    "import glob\n",
    "import pickle\n",
    "import matplotlib.pyplot as plt\n"
   ]
  },
  {
   "cell_type": "code",
   "execution_count": 77,
   "metadata": {},
   "outputs": [
    {
     "name": "stderr",
     "output_type": "stream",
     "text": [
      "[Parallel(n_jobs=-1)]: Using backend ThreadingBackend with 8 concurrent workers.\n",
      "[Parallel(n_jobs=-1)]: Done  34 tasks      | elapsed:    0.2s\n",
      "[Parallel(n_jobs=-1)]: Done  50 out of  50 | elapsed:    0.2s finished\n"
     ]
    },
    {
     "name": "stdout",
     "output_type": "stream",
     "text": [
      "Model Saved ...\n",
      "../model_py/RF_GROUP.pkl\n",
      "Average number of nodes 339\n",
      "Average maximum depth 15\n",
      "Variable: SIO2                 Importance: 0.15\n",
      "Variable: AL2O3                Importance: 0.1\n",
      "Variable: S                    Importance: 0.1\n",
      "Variable: F                    Importance: 0.07\n",
      "Variable: ZRO2                 Importance: 0.07\n",
      "Variable: CAO                  Importance: 0.06\n",
      "Variable: K2O                  Importance: 0.06\n",
      "Variable: MGO                  Importance: 0.05\n",
      "Variable: NA2O                 Importance: 0.05\n",
      "Variable: CL                   Importance: 0.05\n",
      "Variable: FEOT                 Importance: 0.04\n",
      "Variable: COO                  Importance: 0.04\n",
      "Variable: ZNO                  Importance: 0.04\n",
      "Variable: TIO2                 Importance: 0.03\n",
      "Variable: MNO                  Importance: 0.02\n",
      "Variable: P2O5                 Importance: 0.02\n",
      "Variable: NIO                  Importance: 0.02\n",
      "Variable: CUO                  Importance: 0.02\n",
      "Variable: CR2O3                Importance: 0.01\n",
      "Variable: PBO                  Importance: 0.01\n",
      "Variable: AS                   Importance: 0.01\n"
     ]
    },
    {
     "name": "stderr",
     "output_type": "stream",
     "text": [
      "[Parallel(n_jobs=8)]: Using backend ThreadingBackend with 8 concurrent workers.\n",
      "[Parallel(n_jobs=8)]: Done  34 tasks      | elapsed:    0.0s\n",
      "[Parallel(n_jobs=8)]: Done  50 out of  50 | elapsed:    0.0s finished\n",
      "[Parallel(n_jobs=-1)]: Using backend ThreadingBackend with 8 concurrent workers.\n"
     ]
    },
    {
     "name": "stdout",
     "output_type": "stream",
     "text": [
      "0.9923167848699763\n",
      "Training .... AMPHIBOLES\n",
      "Average number of nodes 309\n",
      "Average maximum depth 15\n"
     ]
    },
    {
     "name": "stderr",
     "output_type": "stream",
     "text": [
      "[Parallel(n_jobs=-1)]: Done  34 tasks      | elapsed:    0.1s\n",
      "[Parallel(n_jobs=-1)]: Done  50 out of  50 | elapsed:    0.1s finished\n",
      "[Parallel(n_jobs=8)]: Using backend ThreadingBackend with 8 concurrent workers.\n",
      "[Parallel(n_jobs=8)]: Done  34 tasks      | elapsed:    0.0s\n",
      "[Parallel(n_jobs=8)]: Done  50 out of  50 | elapsed:    0.0s finished\n"
     ]
    },
    {
     "name": "stdout",
     "output_type": "stream",
     "text": [
      "Variable: NA2O                 Importance: 0.11\n",
      "Variable: AL2O3                Importance: 0.1\n",
      "Variable: SIO2                 Importance: 0.09\n",
      "Variable: TIO2                 Importance: 0.09\n",
      "Variable: K2O                  Importance: 0.09\n",
      "Variable: FEOT                 Importance: 0.08\n",
      "Variable: CAO                  Importance: 0.08\n",
      "Variable: MGO                  Importance: 0.07\n",
      "Variable: MNO                  Importance: 0.06\n",
      "Variable: F                    Importance: 0.05\n",
      "Variable: CR2O3                Importance: 0.04\n",
      "Variable: CL                   Importance: 0.04\n",
      "Variable: P2O5                 Importance: 0.03\n",
      "Variable: NIO                  Importance: 0.03\n",
      "Variable: ZRO2                 Importance: 0.03\n",
      "Variable: CUO                  Importance: 0.0\n",
      "Variable: COO                  Importance: 0.0\n",
      "Variable: ZNO                  Importance: 0.0\n",
      "Variable: PBO                  Importance: 0.0\n",
      "Variable: S                    Importance: 0.0\n",
      "Variable: AS                   Importance: 0.0\n",
      "0.7662835249042146\n",
      "Training .... CARBONATE\n"
     ]
    },
    {
     "name": "stderr",
     "output_type": "stream",
     "text": [
      "[Parallel(n_jobs=-1)]: Using backend ThreadingBackend with 8 concurrent workers.\n",
      "[Parallel(n_jobs=-1)]: Done  34 tasks      | elapsed:    0.1s\n",
      "[Parallel(n_jobs=-1)]: Done  50 out of  50 | elapsed:    0.1s finished\n"
     ]
    },
    {
     "name": "stdout",
     "output_type": "stream",
     "text": [
      "Average number of nodes 295\n",
      "Average maximum depth 18\n",
      "Variable: CAO                  Importance: 0.14\n",
      "Variable: NA2O                 Importance: 0.1\n",
      "Variable: MNO                  Importance: 0.09\n",
      "Variable: SIO2                 Importance: 0.07\n",
      "Variable: FEOT                 Importance: 0.07\n",
      "Variable: MGO                  Importance: 0.07\n",
      "Variable: F                    Importance: 0.07\n",
      "Variable: K2O                  Importance: 0.06\n",
      "Variable: AL2O3                Importance: 0.05\n",
      "Variable: P2O5                 Importance: 0.05\n",
      "Variable: TIO2                 Importance: 0.04\n",
      "Variable: CR2O3                Importance: 0.04\n",
      "Variable: CL                   Importance: 0.04\n",
      "Variable: NIO                  Importance: 0.03\n",
      "Variable: ZNO                  Importance: 0.03\n",
      "Variable: S                    Importance: 0.02\n",
      "Variable: ZRO2                 Importance: 0.02\n",
      "Variable: CUO                  Importance: 0.0\n",
      "Variable: COO                  Importance: 0.0\n",
      "Variable: PBO                  Importance: 0.0\n",
      "Variable: AS                   Importance: 0.0\n"
     ]
    },
    {
     "name": "stderr",
     "output_type": "stream",
     "text": [
      "[Parallel(n_jobs=8)]: Using backend ThreadingBackend with 8 concurrent workers.\n",
      "[Parallel(n_jobs=8)]: Done  34 tasks      | elapsed:    0.0s\n",
      "[Parallel(n_jobs=8)]: Done  50 out of  50 | elapsed:    0.0s finished\n",
      "[Parallel(n_jobs=-1)]: Using backend ThreadingBackend with 8 concurrent workers.\n",
      "[Parallel(n_jobs=-1)]: Done  34 tasks      | elapsed:    0.0s\n"
     ]
    },
    {
     "name": "stdout",
     "output_type": "stream",
     "text": [
      "0.9032258064516129\n",
      "Training .... CLAY\n",
      "Average number of nodes 81\n",
      "Average maximum depth 10\n"
     ]
    },
    {
     "name": "stderr",
     "output_type": "stream",
     "text": [
      "[Parallel(n_jobs=-1)]: Done  50 out of  50 | elapsed:    0.1s finished\n",
      "[Parallel(n_jobs=8)]: Using backend ThreadingBackend with 8 concurrent workers.\n",
      "[Parallel(n_jobs=8)]: Done  34 tasks      | elapsed:    0.0s\n",
      "[Parallel(n_jobs=8)]: Done  50 out of  50 | elapsed:    0.0s finished\n"
     ]
    },
    {
     "name": "stdout",
     "output_type": "stream",
     "text": [
      "Variable: SIO2                 Importance: 0.12\n",
      "Variable: MGO                  Importance: 0.12\n",
      "Variable: K2O                  Importance: 0.12\n",
      "Variable: TIO2                 Importance: 0.11\n",
      "Variable: AL2O3                Importance: 0.11\n",
      "Variable: CAO                  Importance: 0.09\n",
      "Variable: FEOT                 Importance: 0.08\n",
      "Variable: MNO                  Importance: 0.06\n",
      "Variable: NA2O                 Importance: 0.05\n",
      "Variable: P2O5                 Importance: 0.05\n",
      "Variable: NIO                  Importance: 0.04\n",
      "Variable: CR2O3                Importance: 0.02\n",
      "Variable: CL                   Importance: 0.02\n",
      "Variable: F                    Importance: 0.0\n",
      "Variable: CUO                  Importance: 0.0\n",
      "Variable: COO                  Importance: 0.0\n",
      "Variable: ZNO                  Importance: 0.0\n",
      "Variable: PBO                  Importance: 0.0\n",
      "Variable: S                    Importance: 0.0\n",
      "Variable: ZRO2                 Importance: 0.0\n",
      "Variable: AS                   Importance: 0.0\n",
      "0.8271604938271605\n",
      "Training .... FELDSPAR\n"
     ]
    },
    {
     "name": "stderr",
     "output_type": "stream",
     "text": [
      "[Parallel(n_jobs=-1)]: Using backend ThreadingBackend with 8 concurrent workers.\n",
      "[Parallel(n_jobs=-1)]: Done  34 tasks      | elapsed:    0.0s\n",
      "[Parallel(n_jobs=-1)]: Done  50 out of  50 | elapsed:    0.1s finished\n"
     ]
    },
    {
     "name": "stdout",
     "output_type": "stream",
     "text": [
      "Average number of nodes 75\n",
      "Average maximum depth 9\n",
      "Variable: NA2O                 Importance: 0.18\n",
      "Variable: AL2O3                Importance: 0.16\n",
      "Variable: CAO                  Importance: 0.15\n",
      "Variable: K2O                  Importance: 0.15\n",
      "Variable: SIO2                 Importance: 0.14\n",
      "Variable: TIO2                 Importance: 0.06\n",
      "Variable: FEOT                 Importance: 0.05\n",
      "Variable: CR2O3                Importance: 0.02\n",
      "Variable: MGO                  Importance: 0.02\n",
      "Variable: MNO                  Importance: 0.02\n",
      "Variable: P2O5                 Importance: 0.02\n",
      "Variable: F                    Importance: 0.02\n",
      "Variable: CL                   Importance: 0.02\n",
      "Variable: NIO                  Importance: 0.02\n",
      "Variable: CUO                  Importance: 0.0\n",
      "Variable: COO                  Importance: 0.0\n",
      "Variable: ZNO                  Importance: 0.0\n",
      "Variable: PBO                  Importance: 0.0\n",
      "Variable: S                    Importance: 0.0\n",
      "Variable: ZRO2                 Importance: 0.0\n",
      "Variable: AS                   Importance: 0.0\n"
     ]
    },
    {
     "name": "stderr",
     "output_type": "stream",
     "text": [
      "[Parallel(n_jobs=8)]: Using backend ThreadingBackend with 8 concurrent workers.\n",
      "[Parallel(n_jobs=8)]: Done  34 tasks      | elapsed:    0.0s\n",
      "[Parallel(n_jobs=8)]: Done  50 out of  50 | elapsed:    0.0s finished\n",
      "[Parallel(n_jobs=-1)]: Using backend ThreadingBackend with 8 concurrent workers.\n",
      "[Parallel(n_jobs=-1)]: Done  34 tasks      | elapsed:    0.0s\n",
      "[Parallel(n_jobs=-1)]: Done  50 out of  50 | elapsed:    0.1s finished\n"
     ]
    },
    {
     "name": "stdout",
     "output_type": "stream",
     "text": [
      "0.8333333333333334\n",
      "Training .... FELDSPATHOID\n",
      "Average number of nodes 84\n",
      "Average maximum depth 10\n",
      "Variable: SIO2                 Importance: 0.16\n",
      "Variable: K2O                  Importance: 0.14\n",
      "Variable: NA2O                 Importance: 0.13\n",
      "Variable: CAO                  Importance: 0.1\n",
      "Variable: AL2O3                Importance: 0.09\n",
      "Variable: CL                   Importance: 0.07\n",
      "Variable: FEOT                 Importance: 0.06\n",
      "Variable: P2O5                 Importance: 0.06\n",
      "Variable: MGO                  Importance: 0.04\n",
      "Variable: TIO2                 Importance: 0.03\n",
      "Variable: MNO                  Importance: 0.03\n",
      "Variable: F                    Importance: 0.03\n",
      "Variable: S                    Importance: 0.03\n",
      "Variable: CR2O3                Importance: 0.02\n",
      "Variable: NIO                  Importance: 0.02\n",
      "Variable: CUO                  Importance: 0.0\n",
      "Variable: COO                  Importance: 0.0\n",
      "Variable: ZNO                  Importance: 0.0\n",
      "Variable: PBO                  Importance: 0.0\n",
      "Variable: ZRO2                 Importance: 0.0\n",
      "Variable: AS                   Importance: 0.0\n",
      "0.9595959595959596\n",
      "Training .... GARNET\n"
     ]
    },
    {
     "name": "stderr",
     "output_type": "stream",
     "text": [
      "[Parallel(n_jobs=8)]: Using backend ThreadingBackend with 8 concurrent workers.\n",
      "[Parallel(n_jobs=8)]: Done  34 tasks      | elapsed:    0.0s\n",
      "[Parallel(n_jobs=8)]: Done  50 out of  50 | elapsed:    0.0s finished\n",
      "[Parallel(n_jobs=-1)]: Using backend ThreadingBackend with 8 concurrent workers.\n",
      "[Parallel(n_jobs=-1)]: Done  34 tasks      | elapsed:    0.0s\n",
      "[Parallel(n_jobs=-1)]: Done  50 out of  50 | elapsed:    0.1s finished\n"
     ]
    },
    {
     "name": "stdout",
     "output_type": "stream",
     "text": [
      "Average number of nodes 55\n",
      "Average maximum depth 8\n",
      "Variable: SIO2                 Importance: 0.14\n",
      "Variable: MGO                  Importance: 0.13\n",
      "Variable: FEOT                 Importance: 0.1\n",
      "Variable: CAO                  Importance: 0.09\n",
      "Variable: MNO                  Importance: 0.09\n",
      "Variable: TIO2                 Importance: 0.08\n",
      "Variable: AL2O3                Importance: 0.06\n",
      "Variable: F                    Importance: 0.06\n",
      "Variable: NA2O                 Importance: 0.04\n",
      "Variable: CL                   Importance: 0.04\n",
      "Variable: NIO                  Importance: 0.04\n",
      "Variable: ZRO2                 Importance: 0.04\n",
      "Variable: CR2O3                Importance: 0.03\n",
      "Variable: P2O5                 Importance: 0.03\n",
      "Variable: K2O                  Importance: 0.02\n",
      "Variable: ZNO                  Importance: 0.02\n",
      "Variable: CUO                  Importance: 0.0\n",
      "Variable: COO                  Importance: 0.0\n",
      "Variable: PBO                  Importance: 0.0\n",
      "Variable: S                    Importance: 0.0\n",
      "Variable: AS                   Importance: 0.0\n"
     ]
    },
    {
     "name": "stderr",
     "output_type": "stream",
     "text": [
      "[Parallel(n_jobs=8)]: Using backend ThreadingBackend with 8 concurrent workers.\n",
      "[Parallel(n_jobs=8)]: Done  34 tasks      | elapsed:    0.0s\n",
      "[Parallel(n_jobs=8)]: Done  50 out of  50 | elapsed:    0.0s finished\n",
      "[Parallel(n_jobs=-1)]: Using backend ThreadingBackend with 8 concurrent workers.\n",
      "[Parallel(n_jobs=-1)]: Done  34 tasks      | elapsed:    0.1s\n",
      "[Parallel(n_jobs=-1)]: Done  50 out of  50 | elapsed:    0.1s finished\n"
     ]
    },
    {
     "name": "stdout",
     "output_type": "stream",
     "text": [
      "0.8333333333333334\n",
      "Training .... MICA\n",
      "Average number of nodes 119\n",
      "Average maximum depth 12\n",
      "Variable: MGO                  Importance: 0.13\n",
      "Variable: AL2O3                Importance: 0.11\n",
      "Variable: FEOT                 Importance: 0.09\n",
      "Variable: F                    Importance: 0.09\n",
      "Variable: SIO2                 Importance: 0.08\n",
      "Variable: K2O                  Importance: 0.08\n",
      "Variable: NA2O                 Importance: 0.07\n",
      "Variable: TIO2                 Importance: 0.06\n",
      "Variable: MNO                  Importance: 0.06\n",
      "Variable: CAO                  Importance: 0.05\n",
      "Variable: CL                   Importance: 0.05\n",
      "Variable: NIO                  Importance: 0.04\n",
      "Variable: CR2O3                Importance: 0.03\n",
      "Variable: P2O5                 Importance: 0.03\n",
      "Variable: CUO                  Importance: 0.0\n",
      "Variable: COO                  Importance: 0.0\n",
      "Variable: ZNO                  Importance: 0.0\n",
      "Variable: PBO                  Importance: 0.0\n",
      "Variable: S                    Importance: 0.0\n",
      "Variable: ZRO2                 Importance: 0.0\n",
      "Variable: AS                   Importance: 0.0\n",
      "0.8758169934640523\n",
      "Training .... OLIVINE\n"
     ]
    },
    {
     "name": "stderr",
     "output_type": "stream",
     "text": [
      "[Parallel(n_jobs=8)]: Using backend ThreadingBackend with 8 concurrent workers.\n",
      "[Parallel(n_jobs=8)]: Done  34 tasks      | elapsed:    0.0s\n",
      "[Parallel(n_jobs=8)]: Done  50 out of  50 | elapsed:    0.0s finished\n",
      "[Parallel(n_jobs=-1)]: Using backend ThreadingBackend with 8 concurrent workers.\n",
      "[Parallel(n_jobs=-1)]: Done  34 tasks      | elapsed:    0.0s\n",
      "[Parallel(n_jobs=-1)]: Done  50 out of  50 | elapsed:    0.1s finished\n"
     ]
    },
    {
     "name": "stdout",
     "output_type": "stream",
     "text": [
      "Average number of nodes 24\n",
      "Average maximum depth 6\n",
      "Variable: MNO                  Importance: 0.16\n",
      "Variable: MGO                  Importance: 0.15\n",
      "Variable: SIO2                 Importance: 0.13\n",
      "Variable: FEOT                 Importance: 0.11\n",
      "Variable: K2O                  Importance: 0.08\n",
      "Variable: NA2O                 Importance: 0.08\n",
      "Variable: TIO2                 Importance: 0.07\n",
      "Variable: CR2O3                Importance: 0.07\n",
      "Variable: NIO                  Importance: 0.07\n",
      "Variable: AL2O3                Importance: 0.04\n",
      "Variable: CAO                  Importance: 0.03\n",
      "Variable: P2O5                 Importance: 0.02\n",
      "Variable: F                    Importance: 0.0\n",
      "Variable: CL                   Importance: 0.0\n",
      "Variable: CUO                  Importance: 0.0\n",
      "Variable: COO                  Importance: 0.0\n",
      "Variable: ZNO                  Importance: 0.0\n",
      "Variable: PBO                  Importance: 0.0\n",
      "Variable: S                    Importance: 0.0\n",
      "Variable: ZRO2                 Importance: 0.0\n",
      "Variable: AS                   Importance: 0.0\n"
     ]
    },
    {
     "name": "stderr",
     "output_type": "stream",
     "text": [
      "[Parallel(n_jobs=8)]: Using backend ThreadingBackend with 8 concurrent workers.\n",
      "[Parallel(n_jobs=8)]: Done  34 tasks      | elapsed:    0.0s\n",
      "[Parallel(n_jobs=8)]: Done  50 out of  50 | elapsed:    0.0s finished\n",
      "[Parallel(n_jobs=-1)]: Using backend ThreadingBackend with 8 concurrent workers.\n"
     ]
    },
    {
     "name": "stdout",
     "output_type": "stream",
     "text": [
      "0.8888888888888888\n",
      "Training .... PYROXENE\n",
      "Average number of nodes 179\n",
      "Average maximum depth 13\n"
     ]
    },
    {
     "name": "stderr",
     "output_type": "stream",
     "text": [
      "[Parallel(n_jobs=-1)]: Done  34 tasks      | elapsed:    0.1s\n",
      "[Parallel(n_jobs=-1)]: Done  50 out of  50 | elapsed:    0.1s finished\n",
      "[Parallel(n_jobs=8)]: Using backend ThreadingBackend with 8 concurrent workers.\n",
      "[Parallel(n_jobs=8)]: Done  34 tasks      | elapsed:    0.0s\n",
      "[Parallel(n_jobs=8)]: Done  50 out of  50 | elapsed:    0.0s finished\n"
     ]
    },
    {
     "name": "stdout",
     "output_type": "stream",
     "text": [
      "Variable: MGO                  Importance: 0.13\n",
      "Variable: FEOT                 Importance: 0.12\n",
      "Variable: CAO                  Importance: 0.11\n",
      "Variable: SIO2                 Importance: 0.09\n",
      "Variable: NA2O                 Importance: 0.09\n",
      "Variable: AL2O3                Importance: 0.08\n",
      "Variable: MNO                  Importance: 0.07\n",
      "Variable: TIO2                 Importance: 0.06\n",
      "Variable: CR2O3                Importance: 0.04\n",
      "Variable: K2O                  Importance: 0.04\n",
      "Variable: ZRO2                 Importance: 0.04\n",
      "Variable: P2O5                 Importance: 0.03\n",
      "Variable: COO                  Importance: 0.03\n",
      "Variable: ZNO                  Importance: 0.03\n",
      "Variable: CL                   Importance: 0.02\n",
      "Variable: NIO                  Importance: 0.02\n",
      "Variable: F                    Importance: 0.0\n",
      "Variable: CUO                  Importance: 0.0\n",
      "Variable: PBO                  Importance: 0.0\n",
      "Variable: S                    Importance: 0.0\n",
      "Variable: AS                   Importance: 0.0\n",
      "0.8611111111111112\n",
      "Training .... SPINEL\n"
     ]
    },
    {
     "name": "stderr",
     "output_type": "stream",
     "text": [
      "[Parallel(n_jobs=-1)]: Using backend ThreadingBackend with 8 concurrent workers.\n",
      "[Parallel(n_jobs=-1)]: Done  34 tasks      | elapsed:    0.0s\n",
      "[Parallel(n_jobs=-1)]: Done  50 out of  50 | elapsed:    0.1s finished\n"
     ]
    },
    {
     "name": "stdout",
     "output_type": "stream",
     "text": [
      "Average number of nodes 119\n",
      "Average maximum depth 10\n",
      "Variable: CR2O3                Importance: 0.14\n",
      "Variable: AL2O3                Importance: 0.13\n",
      "Variable: FEOT                 Importance: 0.1\n",
      "Variable: MGO                  Importance: 0.1\n",
      "Variable: MNO                  Importance: 0.1\n",
      "Variable: TIO2                 Importance: 0.09\n",
      "Variable: NIO                  Importance: 0.08\n",
      "Variable: ZNO                  Importance: 0.07\n",
      "Variable: CAO                  Importance: 0.05\n",
      "Variable: K2O                  Importance: 0.05\n",
      "Variable: SIO2                 Importance: 0.04\n",
      "Variable: NA2O                 Importance: 0.03\n",
      "Variable: P2O5                 Importance: 0.03\n",
      "Variable: F                    Importance: 0.0\n",
      "Variable: CL                   Importance: 0.0\n",
      "Variable: CUO                  Importance: 0.0\n",
      "Variable: COO                  Importance: 0.0\n",
      "Variable: PBO                  Importance: 0.0\n",
      "Variable: S                    Importance: 0.0\n",
      "Variable: ZRO2                 Importance: 0.0\n",
      "Variable: AS                   Importance: 0.0\n"
     ]
    },
    {
     "name": "stderr",
     "output_type": "stream",
     "text": [
      "[Parallel(n_jobs=8)]: Using backend ThreadingBackend with 8 concurrent workers.\n",
      "[Parallel(n_jobs=8)]: Done  34 tasks      | elapsed:    0.0s\n",
      "[Parallel(n_jobs=8)]: Done  50 out of  50 | elapsed:    0.0s finished\n",
      "[Parallel(n_jobs=-1)]: Using backend ThreadingBackend with 8 concurrent workers.\n",
      "[Parallel(n_jobs=-1)]: Done  34 tasks      | elapsed:    0.1s\n"
     ]
    },
    {
     "name": "stdout",
     "output_type": "stream",
     "text": [
      "0.7474747474747475\n",
      "Training .... SULFIDE\n",
      "Average number of nodes 260\n",
      "Average maximum depth 16\n"
     ]
    },
    {
     "name": "stderr",
     "output_type": "stream",
     "text": [
      "[Parallel(n_jobs=-1)]: Done  50 out of  50 | elapsed:    0.1s finished\n",
      "[Parallel(n_jobs=8)]: Using backend ThreadingBackend with 8 concurrent workers.\n",
      "[Parallel(n_jobs=8)]: Done  34 tasks      | elapsed:    0.0s\n",
      "[Parallel(n_jobs=8)]: Done  50 out of  50 | elapsed:    0.0s finished\n"
     ]
    },
    {
     "name": "stdout",
     "output_type": "stream",
     "text": [
      "Variable: S                    Importance: 0.17\n",
      "Variable: FEOT                 Importance: 0.15\n",
      "Variable: NIO                  Importance: 0.14\n",
      "Variable: CUO                  Importance: 0.13\n",
      "Variable: COO                  Importance: 0.1\n",
      "Variable: AS                   Importance: 0.1\n",
      "Variable: PBO                  Importance: 0.07\n",
      "Variable: ZNO                  Importance: 0.06\n",
      "Variable: CAO                  Importance: 0.03\n",
      "Variable: K2O                  Importance: 0.03\n",
      "Variable: NA2O                 Importance: 0.03\n",
      "Variable: SIO2                 Importance: 0.0\n",
      "Variable: TIO2                 Importance: 0.0\n",
      "Variable: AL2O3                Importance: 0.0\n",
      "Variable: CR2O3                Importance: 0.0\n",
      "Variable: MGO                  Importance: 0.0\n",
      "Variable: MNO                  Importance: 0.0\n",
      "Variable: P2O5                 Importance: 0.0\n",
      "Variable: F                    Importance: 0.0\n",
      "Variable: CL                   Importance: 0.0\n",
      "Variable: ZRO2                 Importance: 0.0\n",
      "0.9354838709677419\n",
      "Training .... APATITE\n"
     ]
    },
    {
     "name": "stderr",
     "output_type": "stream",
     "text": [
      "[Parallel(n_jobs=-1)]: Using backend ThreadingBackend with 8 concurrent workers.\n",
      "[Parallel(n_jobs=-1)]: Done  34 tasks      | elapsed:    0.0s\n",
      "[Parallel(n_jobs=-1)]: Done  50 out of  50 | elapsed:    0.0s finished\n",
      "[Parallel(n_jobs=8)]: Using backend ThreadingBackend with 8 concurrent workers.\n",
      "[Parallel(n_jobs=8)]: Done  34 tasks      | elapsed:    0.0s\n",
      "[Parallel(n_jobs=8)]: Done  50 out of  50 | elapsed:    0.0s finished\n"
     ]
    },
    {
     "name": "stdout",
     "output_type": "stream",
     "text": [
      "Average number of nodes 1\n",
      "Average maximum depth 0\n",
      "Variable: SIO2                 Importance: 0.0\n",
      "Variable: TIO2                 Importance: 0.0\n",
      "Variable: AL2O3                Importance: 0.0\n",
      "Variable: CR2O3                Importance: 0.0\n",
      "Variable: FEOT                 Importance: 0.0\n",
      "Variable: CAO                  Importance: 0.0\n",
      "Variable: MGO                  Importance: 0.0\n",
      "Variable: MNO                  Importance: 0.0\n",
      "Variable: K2O                  Importance: 0.0\n",
      "Variable: NA2O                 Importance: 0.0\n",
      "Variable: P2O5                 Importance: 0.0\n",
      "Variable: F                    Importance: 0.0\n",
      "Variable: CL                   Importance: 0.0\n",
      "Variable: NIO                  Importance: 0.0\n",
      "Variable: CUO                  Importance: 0.0\n",
      "Variable: COO                  Importance: 0.0\n",
      "Variable: ZNO                  Importance: 0.0\n",
      "Variable: PBO                  Importance: 0.0\n",
      "Variable: S                    Importance: 0.0\n",
      "Variable: ZRO2                 Importance: 0.0\n",
      "Variable: AS                   Importance: 0.0\n",
      "1.0\n",
      "Training .... ILMENITE\n"
     ]
    },
    {
     "name": "stderr",
     "output_type": "stream",
     "text": [
      "[Parallel(n_jobs=-1)]: Using backend ThreadingBackend with 8 concurrent workers.\n",
      "[Parallel(n_jobs=-1)]: Done  34 tasks      | elapsed:    0.0s\n",
      "[Parallel(n_jobs=-1)]: Done  50 out of  50 | elapsed:    0.0s finished\n",
      "[Parallel(n_jobs=8)]: Using backend ThreadingBackend with 8 concurrent workers.\n",
      "[Parallel(n_jobs=8)]: Done  34 tasks      | elapsed:    0.0s\n",
      "[Parallel(n_jobs=8)]: Done  50 out of  50 | elapsed:    0.0s finished\n"
     ]
    },
    {
     "name": "stdout",
     "output_type": "stream",
     "text": [
      "Average number of nodes 1\n",
      "Average maximum depth 0\n",
      "Variable: SIO2                 Importance: 0.0\n",
      "Variable: TIO2                 Importance: 0.0\n",
      "Variable: AL2O3                Importance: 0.0\n",
      "Variable: CR2O3                Importance: 0.0\n",
      "Variable: FEOT                 Importance: 0.0\n",
      "Variable: CAO                  Importance: 0.0\n",
      "Variable: MGO                  Importance: 0.0\n",
      "Variable: MNO                  Importance: 0.0\n",
      "Variable: K2O                  Importance: 0.0\n",
      "Variable: NA2O                 Importance: 0.0\n",
      "Variable: P2O5                 Importance: 0.0\n",
      "Variable: F                    Importance: 0.0\n",
      "Variable: CL                   Importance: 0.0\n",
      "Variable: NIO                  Importance: 0.0\n",
      "Variable: CUO                  Importance: 0.0\n",
      "Variable: COO                  Importance: 0.0\n",
      "Variable: ZNO                  Importance: 0.0\n",
      "Variable: PBO                  Importance: 0.0\n",
      "Variable: S                    Importance: 0.0\n",
      "Variable: ZRO2                 Importance: 0.0\n",
      "Variable: AS                   Importance: 0.0\n",
      "1.0\n",
      "Training .... PEROVSKITE\n"
     ]
    },
    {
     "name": "stderr",
     "output_type": "stream",
     "text": [
      "[Parallel(n_jobs=-1)]: Using backend ThreadingBackend with 8 concurrent workers.\n",
      "[Parallel(n_jobs=-1)]: Done  34 tasks      | elapsed:    0.0s\n",
      "[Parallel(n_jobs=-1)]: Done  50 out of  50 | elapsed:    0.0s finished\n",
      "[Parallel(n_jobs=8)]: Using backend ThreadingBackend with 8 concurrent workers.\n",
      "[Parallel(n_jobs=8)]: Done  34 tasks      | elapsed:    0.0s\n",
      "[Parallel(n_jobs=8)]: Done  50 out of  50 | elapsed:    0.0s finished\n"
     ]
    },
    {
     "name": "stdout",
     "output_type": "stream",
     "text": [
      "Average number of nodes 1\n",
      "Average maximum depth 0\n",
      "Variable: SIO2                 Importance: 0.0\n",
      "Variable: TIO2                 Importance: 0.0\n",
      "Variable: AL2O3                Importance: 0.0\n",
      "Variable: CR2O3                Importance: 0.0\n",
      "Variable: FEOT                 Importance: 0.0\n",
      "Variable: CAO                  Importance: 0.0\n",
      "Variable: MGO                  Importance: 0.0\n",
      "Variable: MNO                  Importance: 0.0\n",
      "Variable: K2O                  Importance: 0.0\n",
      "Variable: NA2O                 Importance: 0.0\n",
      "Variable: P2O5                 Importance: 0.0\n",
      "Variable: F                    Importance: 0.0\n",
      "Variable: CL                   Importance: 0.0\n",
      "Variable: NIO                  Importance: 0.0\n",
      "Variable: CUO                  Importance: 0.0\n",
      "Variable: COO                  Importance: 0.0\n",
      "Variable: ZNO                  Importance: 0.0\n",
      "Variable: PBO                  Importance: 0.0\n",
      "Variable: S                    Importance: 0.0\n",
      "Variable: ZRO2                 Importance: 0.0\n",
      "Variable: AS                   Importance: 0.0\n",
      "1.0\n",
      "Training .... QUARTZ\n"
     ]
    },
    {
     "name": "stderr",
     "output_type": "stream",
     "text": [
      "[Parallel(n_jobs=-1)]: Using backend ThreadingBackend with 8 concurrent workers.\n",
      "[Parallel(n_jobs=-1)]: Done  34 tasks      | elapsed:    0.0s\n",
      "[Parallel(n_jobs=-1)]: Done  50 out of  50 | elapsed:    0.0s finished\n",
      "[Parallel(n_jobs=8)]: Using backend ThreadingBackend with 8 concurrent workers.\n",
      "[Parallel(n_jobs=8)]: Done  34 tasks      | elapsed:    0.0s\n",
      "[Parallel(n_jobs=8)]: Done  50 out of  50 | elapsed:    0.0s finished\n"
     ]
    },
    {
     "name": "stdout",
     "output_type": "stream",
     "text": [
      "Average number of nodes 1\n",
      "Average maximum depth 0\n",
      "Variable: SIO2                 Importance: 0.0\n",
      "Variable: TIO2                 Importance: 0.0\n",
      "Variable: AL2O3                Importance: 0.0\n",
      "Variable: CR2O3                Importance: 0.0\n",
      "Variable: FEOT                 Importance: 0.0\n",
      "Variable: CAO                  Importance: 0.0\n",
      "Variable: MGO                  Importance: 0.0\n",
      "Variable: MNO                  Importance: 0.0\n",
      "Variable: K2O                  Importance: 0.0\n",
      "Variable: NA2O                 Importance: 0.0\n",
      "Variable: P2O5                 Importance: 0.0\n",
      "Variable: F                    Importance: 0.0\n",
      "Variable: CL                   Importance: 0.0\n",
      "Variable: NIO                  Importance: 0.0\n",
      "Variable: CUO                  Importance: 0.0\n",
      "Variable: COO                  Importance: 0.0\n",
      "Variable: ZNO                  Importance: 0.0\n",
      "Variable: PBO                  Importance: 0.0\n",
      "Variable: S                    Importance: 0.0\n",
      "Variable: ZRO2                 Importance: 0.0\n",
      "Variable: AS                   Importance: 0.0\n",
      "1.0\n",
      "Training .... TITANITE\n"
     ]
    },
    {
     "name": "stderr",
     "output_type": "stream",
     "text": [
      "[Parallel(n_jobs=-1)]: Using backend ThreadingBackend with 8 concurrent workers.\n",
      "[Parallel(n_jobs=-1)]: Done  34 tasks      | elapsed:    0.0s\n",
      "[Parallel(n_jobs=-1)]: Done  50 out of  50 | elapsed:    0.0s finished\n",
      "[Parallel(n_jobs=8)]: Using backend ThreadingBackend with 8 concurrent workers.\n",
      "[Parallel(n_jobs=8)]: Done  34 tasks      | elapsed:    0.0s\n",
      "[Parallel(n_jobs=8)]: Done  50 out of  50 | elapsed:    0.0s finished\n"
     ]
    },
    {
     "name": "stdout",
     "output_type": "stream",
     "text": [
      "Average number of nodes 1\n",
      "Average maximum depth 0\n",
      "Variable: SIO2                 Importance: 0.0\n",
      "Variable: TIO2                 Importance: 0.0\n",
      "Variable: AL2O3                Importance: 0.0\n",
      "Variable: CR2O3                Importance: 0.0\n",
      "Variable: FEOT                 Importance: 0.0\n",
      "Variable: CAO                  Importance: 0.0\n",
      "Variable: MGO                  Importance: 0.0\n",
      "Variable: MNO                  Importance: 0.0\n",
      "Variable: K2O                  Importance: 0.0\n",
      "Variable: NA2O                 Importance: 0.0\n",
      "Variable: P2O5                 Importance: 0.0\n",
      "Variable: F                    Importance: 0.0\n",
      "Variable: CL                   Importance: 0.0\n",
      "Variable: NIO                  Importance: 0.0\n",
      "Variable: CUO                  Importance: 0.0\n",
      "Variable: COO                  Importance: 0.0\n",
      "Variable: ZNO                  Importance: 0.0\n",
      "Variable: PBO                  Importance: 0.0\n",
      "Variable: S                    Importance: 0.0\n",
      "Variable: ZRO2                 Importance: 0.0\n",
      "Variable: AS                   Importance: 0.0\n",
      "1.0\n",
      "Training .... ZIRCON\n"
     ]
    },
    {
     "name": "stderr",
     "output_type": "stream",
     "text": [
      "[Parallel(n_jobs=-1)]: Using backend ThreadingBackend with 8 concurrent workers.\n",
      "[Parallel(n_jobs=-1)]: Done  34 tasks      | elapsed:    0.0s\n",
      "[Parallel(n_jobs=-1)]: Done  50 out of  50 | elapsed:    0.0s finished\n",
      "[Parallel(n_jobs=8)]: Using backend ThreadingBackend with 8 concurrent workers.\n",
      "[Parallel(n_jobs=8)]: Done  34 tasks      | elapsed:    0.0s\n",
      "[Parallel(n_jobs=8)]: Done  50 out of  50 | elapsed:    0.0s finished\n"
     ]
    },
    {
     "name": "stdout",
     "output_type": "stream",
     "text": [
      "Average number of nodes 1\n",
      "Average maximum depth 0\n",
      "Variable: SIO2                 Importance: 0.0\n",
      "Variable: TIO2                 Importance: 0.0\n",
      "Variable: AL2O3                Importance: 0.0\n",
      "Variable: CR2O3                Importance: 0.0\n",
      "Variable: FEOT                 Importance: 0.0\n",
      "Variable: CAO                  Importance: 0.0\n",
      "Variable: MGO                  Importance: 0.0\n",
      "Variable: MNO                  Importance: 0.0\n",
      "Variable: K2O                  Importance: 0.0\n",
      "Variable: NA2O                 Importance: 0.0\n",
      "Variable: P2O5                 Importance: 0.0\n",
      "Variable: F                    Importance: 0.0\n",
      "Variable: CL                   Importance: 0.0\n",
      "Variable: NIO                  Importance: 0.0\n",
      "Variable: CUO                  Importance: 0.0\n",
      "Variable: COO                  Importance: 0.0\n",
      "Variable: ZNO                  Importance: 0.0\n",
      "Variable: PBO                  Importance: 0.0\n",
      "Variable: S                    Importance: 0.0\n",
      "Variable: ZRO2                 Importance: 0.0\n",
      "Variable: AS                   Importance: 0.0\n",
      "1.0\n",
      "[['AMPHIBOLES', 0.7662835249042146], ['CARBONATE', 0.9032258064516129], ['CLAY', 0.8271604938271605], ['FELDSPAR', 0.8333333333333334], ['FELDSPATHOID', 0.9595959595959596], ['GARNET', 0.8333333333333334], ['MICA', 0.8758169934640523], ['OLIVINE', 0.8888888888888888], ['PYROXENE', 0.8611111111111112], ['SPINEL', 0.7474747474747475], ['SULFIDE', 0.9354838709677419], ['APATITE', 1.0], ['ILMENITE', 1.0], ['PEROVSKITE', 1.0], ['QUARTZ', 1.0], ['TITANITE', 1.0], ['ZIRCON', 1.0]]\n",
      "Model Saved ...\n",
      "../model_py/allmodels\n"
     ]
    }
   ],
   "source": [
    "def getTrainData(path_files):\n",
    "    #Import Mineral Balanced Data!!!!\n",
    "    \n",
    "    input_files = glob.glob(path_files + \"*.csv\")\n",
    "\n",
    "    min_in = []\n",
    "\n",
    "    for filename in input_files:\n",
    "        df = pd.read_csv(filename, index_col=None, header=0, encoding = \"ISO-8859-1\")\n",
    "        min_in.append(df)\n",
    "\n",
    "    df_all = pd.concat(min_in, axis=0, ignore_index=True)\n",
    "    df = df_all.drop(columns = ['Unnamed: 0', 'X1', 'id', 'SAMPLE', 'GROUP', 'MINERAL', 'ROCK','X1_1'])\n",
    "    df = df.drop(columns = [\"H20\"])\n",
    "\n",
    "    return df, df_all\n",
    "\n",
    "    \n",
    "def test_acc(X,y, model,plot=True,modelName='rf'):\n",
    "    # Function to test the accuracy\n",
    "    n_nodes = []\n",
    "    max_depths = []\n",
    "\n",
    "    for ind_tree in model.estimators_:\n",
    "        n_nodes.append(ind_tree.tree_.node_count)\n",
    "        max_depths.append(ind_tree.tree_.max_depth)\n",
    "\n",
    "    print(f'Average number of nodes {int(np.mean(n_nodes))}')\n",
    "    print(f'Average maximum depth {int(np.mean(max_depths))}')\n",
    "    \n",
    "    feature_list = list(X.columns)\n",
    "    # Get numerical feature importances\n",
    "    importances = list(model.feature_importances_)\n",
    "    # List of tuples with variable and importance\n",
    "    feature_importances = [(feature, round(importance, 2)) for feature, importance in zip(feature_list, importances)]\n",
    "    # Sort the feature importances by most important first\n",
    "    feature_importances = sorted(feature_importances, key = lambda x: x[1], reverse = True)\n",
    "    # Print out the feature and importances \n",
    "    [print('Variable: {:20} Importance: {}'.format(*pair)) for pair in feature_importances];\n",
    "\n",
    "    y_pred = model.predict(X)\n",
    "    \n",
    "    cm = confusion_matrix(y, y_pred)\n",
    "    if plot:\n",
    "        if modelName == 'rf':\n",
    "            qmin.plot_confusion_matrix(cm, classes = np.unique(y),\n",
    "                                  title = 'Confusion Matrix',normalize=True)\n",
    "        else:\n",
    "            qmin.plot_confusion_matrix(cm, classes = np.unique(y),\n",
    "                                  title = 'Confusion Matrix',normalize=True,\n",
    "                                 output='../figures/RF_'+modelName+'_confusion_matrix.png')\n",
    "        print(classification_report(y,y_pred))\n",
    "    print(accuracy_score(y, y_pred))\n",
    "    return accuracy_score(y, y_pred)\n",
    "\n",
    "def save_Model(model, model_name):\n",
    "    path = '../model_py/'\n",
    "    pickle.dump(model, open(path+model_name, 'wb'))\n",
    "    print(\"Model Saved ...\\n\"+path+model_name)\n",
    "    \n",
    "def randomForestBuilder(trainData,labels, acc_test=True, saveModel=True, nameModel='RF'):\n",
    "    # Separate 30% for test, training in 70% of Data!\n",
    "    train, test, train_labels, test_labels = train_test_split(trainData, labels, \n",
    "                                                              stratify = labels,\n",
    "                                                              test_size = 0.3)\n",
    "    model = RandomForestClassifier(n_estimators=50, \n",
    "                               max_features = 'sqrt',\n",
    "                               n_jobs=-1, verbose = 1,\n",
    "                               oob_score=True)\n",
    "\n",
    "    # Fit on training data\n",
    "    model.fit(train, train_labels)\n",
    "    \n",
    "    if acc_test:\n",
    "        acc = test_acc(test,test_labels,model,modelName=nameModel)\n",
    "    \n",
    "    if saveModel:\n",
    "        save_Model(model, nameModel+'.pkl')\n",
    "    \n",
    "    return model, test_acc(test,test_labels,model,plot=False)\n",
    "\n",
    "def _cleanDataFrame(df):\n",
    "    df = df.drop(columns = ['Unnamed: 0', 'X1', 'id', 'SAMPLE', 'GROUP', 'ROCK','X1_1'])\n",
    "    df = df.drop(columns = [\"H20\"])\n",
    "    \n",
    "    return df\n",
    "\n",
    "def createMineralModel(data,namegroup):\n",
    "    #get Dataframe to create multiple mineral models\n",
    "    \n",
    "    labels = labels = np.array(data.pop('MINERAL'))\n",
    "    trainData = _cleanDataFrame(data)    \n",
    "    mineralModel, acc = randomForestBuilder(trainData,labels,acc_test=False,\n",
    "                                     saveModel=False, nameModel=namegroup)\n",
    "    return mineralModel,acc\n",
    "    \n",
    "    \n",
    "\n",
    "def modelCreate():\n",
    "    models = {}\n",
    "    \n",
    "    trainData, allData = getTrainData('../data_train/')\n",
    "    trainFeatures = trainData.columns\n",
    "    labels = np.array(allData.pop('GROUP'))\n",
    "    allData['GROUP'] = labels\n",
    "\n",
    "    #Group Model Classify\n",
    "    groupModel, acc = randomForestBuilder(trainData,labels,acc_test=False,\n",
    "                                     saveModel=True, nameModel='RF_GROUP')\n",
    "    models['GROUP'] = groupModel\n",
    "    \n",
    "    groups = allData['GROUP'].unique() # Get all Gruops for mineral classification\n",
    "    \n",
    "    # Mineral Model Classify\n",
    "    accs = []\n",
    "    for group in groups:\n",
    "        print('Training .... '+group)\n",
    "        mineralData = allData[allData['GROUP']== group]\n",
    "        models[group], acc = createMineralModel(mineralData,group)\n",
    "        accs.append([group,acc])\n",
    "    \n",
    "    print(accs)\n",
    "    return models,trainFeatures\n",
    "\n",
    "\n",
    "models, trainFeatures = modelCreate()\n",
    "models['Train Features'] = trainFeatures.values.tolist()\n",
    "#models['Train Features'] = ['SIO2','TIO2','AL2O3','CR2O3','FEOT','CAO','MGO','MNO','K2O',\\\n",
    "# 'NA2O','P2O5','F','CL','NIO','CUO','COO','ZNO','PBO','S','ZRO2', 'AS']\n",
    "path = '../model_py/'\n",
    "model_name = 'allmodels'\n",
    "\n",
    "with open(path+model_name+'.pkl', 'wb') as f:\n",
    "    pickle.dump(models, f)\n",
    "# pickle.dump(models, open(path+model_name+'.pkl', 'wb'))\n",
    "print(\"Model Saved ...\\n\"+path+model_name)"
   ]
  },
  {
   "cell_type": "code",
   "execution_count": 78,
   "metadata": {},
   "outputs": [
    {
     "name": "stdout",
     "output_type": "stream",
     "text": [
      "AMPHIBOLES, 0.805\n",
      "CARBONATE, 0.889\n",
      "CLAY, 0.827\n",
      "FELDSPAR, 0.889\n",
      "FELDSPATHOID, 0.879\n",
      "GARNET, 0.861\n",
      "MICA, 0.928\n",
      "OLIVINE, 0.933\n",
      "PYROXENE, 0.850\n",
      "SPINEL, 0.737\n",
      "SULFIDE, 0.935\n",
      "APATITE, 1.000\n",
      "ILMENITE, 1.000\n",
      "PEROVSKITE, 1.000\n",
      "QUARTZ, 1.000\n",
      "TITANITE, 1.000\n",
      "ZIRCON, 1.000\n"
     ]
    }
   ],
   "source": [
    "accs = [['AMPHIBOLES', 0.8045977011494253], ['CARBONATE', 0.8888888888888888], ['CLAY', 0.8271604938271605], ['FELDSPAR', 0.8888888888888888], ['FELDSPATHOID', 0.8787878787878788], ['GARNET', 0.8611111111111112], ['MICA', 0.9281045751633987], ['OLIVINE', 0.9333333333333333], ['PYROXENE', 0.85], ['SPINEL', 0.7373737373737373], ['SULFIDE', 0.9354838709677419], ['APATITE', 1.0], ['ILMENITE', 1.0], ['PEROVSKITE', 1.0], ['QUARTZ', 1.0], ['TITANITE', 1.0], ['ZIRCON', 1.0]]\n",
    "for i in accs:\n",
    "    print('%s, %.3f'%(i[0],i[1]))"
   ]
  }
 ],
 "metadata": {
  "kernelspec": {
   "display_name": "Python 3",
   "language": "python",
   "name": "python3"
  },
  "language_info": {
   "codemirror_mode": {
    "name": "ipython",
    "version": 3
   },
   "file_extension": ".py",
   "mimetype": "text/x-python",
   "name": "python",
   "nbconvert_exporter": "python",
   "pygments_lexer": "ipython3",
   "version": "3.7.0"
  }
 },
 "nbformat": 4,
 "nbformat_minor": 2
}
